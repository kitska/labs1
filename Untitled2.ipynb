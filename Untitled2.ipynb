{
  "metadata": {
    "kernelspec": {
      "name": "python",
      "display_name": "Python (Pyodide)",
      "language": "python"
    },
    "language_info": {
      "codemirror_mode": {
        "name": "python",
        "version": 3
      },
      "file_extension": ".py",
      "mimetype": "text/x-python",
      "name": "python",
      "nbconvert_exporter": "python",
      "pygments_lexer": "ipython3",
      "version": "3.8"
    }
  },
  "nbformat_minor": 5,
  "nbformat": 4,
  "cells": [
    {
      "id": "34497ff4-a2dd-4f2d-be61-2557790513dd",
      "cell_type": "markdown",
      "source": "<div style=\"border: 2px solid black; padding: 10px;\">\n\n**Georgia**\n================\n\n### General Information\n\n* **Area:** 69,700 km²\n* **Population:** 3,716,858 (2020 est.)\n* **Government:** Unitary Parliamentary Republic\n\n### Famous Personalities\n\n* **Historical Figures:**\n\t+ King David IV (David the Builder)\n\t+ Queen Tamar\n* **Writers:**\n\t+ Shota Rustaveli\n\t+ Ilia Chavchavadze\n\n### Cultural Heritage\n\n* **Historical Sites:**\n\t+ Svetitskhoveli Cathedral\n\t+ Jvari Monastery\n\t+ Narikala Fortress\n* **Museums:**\n\t+ Georgian National Museum\n\t+ Open Air Museum of Ethnography\n\n### Natural Wonders\n\n* **Mountains:**\n\t+ Mount Kazbek\n\t+ Mount Shkhara\n* **Scenic Regions:**\n\t+ Tusheti\n\t+ Svaneti\n\n### Pictures\n\n<img src=\"https://upload.wikimedia.org/wikipedia/commons/thumb/0/0f/Flag_of_Georgia.svg/1280px-Flag_of_Georgia.svg.png\" alt=\"Flag of Georgia\" width=\"200\"/>\n\n### Links\n\n* [Official Government Website](https://www.gov.ge/)\n* [Georgia Tourism](https://georgia.travel/)\n\n| Column 1 | Column 2 | Column 3 |\n|:--------:|:--------:|:--------:|\n|  Row 1   |  Row 1   |  Row 1   |\n|  Row 2   |  Row 2   |  Row 2   |\n|  Row 3   |  Row 3   |  Row 3   |\n\n</div>\n",
      "metadata": {}
    },
    {
      "id": "d3573a64-01ca-4970-8d86-0f51baf38008",
      "cell_type": "code",
      "source": "%%HTML\n\n<svg xmlns=\"http://www.w3.org/2000/svg\" xmlns:xlink=\"http://www.w3.org/1999/xlink\" viewBox=\"0 0 300 200\">\n    <defs>\n        <g id=\"c\">\n            <clipPath id=\"a\">\n                <path d=\"M-109 104a104 104 0 000-208h218a104 104 0 000 208z\"/>\n            </clipPath>\n            <path id=\"b\" d=\"M-55 74a55 55 0 01110 0V-74a55 55 0 01-110 0z\" clip-path=\"url(#a)\"/>\n            <use xlink:href=\"#b\" transform=\"rotate(90)\"/>\n        </g>\n    </defs>\n\n    <!-- White Background -->\n    <path fill=\"#fff\" d=\"M0 0h300v200H0z\"/>\n\n    <!-- Main Red Cross -->\n    <path d=\"M130 0v80H0v40h130v80h40v-80h130V80H170V0h-40z\" fill=\"red\"/>\n\n    <!-- Small Red Crosses in Corners -->\n    <use xlink:href=\"#c\" transform=\"translate(64.45 39.45)\" fill=\"red\"/>\n    <use xlink:href=\"#c\" transform=\"translate(235.55 160.55)\" fill=\"red\"/>\n    <use xlink:href=\"#c\" transform=\"translate(235.55 39.45)\" fill=\"red\"/>\n    <use xlink:href=\"#c\" transform=\"translate(64.45 160.55)\" fill=\"red\"/>\n</svg>\n",
      "metadata": {
        "trusted": true
      },
      "outputs": [
        {
          "output_type": "display_data",
          "data": {
            "text/plain": "<IPython.core.display.HTML object>",
            "text/html": "\n<svg xmlns=\"http://www.w3.org/2000/svg\" xmlns:xlink=\"http://www.w3.org/1999/xlink\" viewBox=\"0 0 300 200\">\n    <defs>\n        <g id=\"c\">\n            <clipPath id=\"a\">\n                <path d=\"M-109 104a104 104 0 000-208h218a104 104 0 000 208z\"/>\n            </clipPath>\n            <path id=\"b\" d=\"M-55 74a55 55 0 01110 0V-74a55 55 0 01-110 0z\" clip-path=\"url(#a)\"/>\n            <use xlink:href=\"#b\" transform=\"rotate(90)\"/>\n        </g>\n    </defs>\n\n    <!-- White Background -->\n    <path fill=\"#fff\" d=\"M0 0h300v200H0z\"/>\n\n    <!-- Main Red Cross -->\n    <path d=\"M130 0v80H0v40h130v80h40v-80h130V80H170V0h-40z\" fill=\"red\"/>\n\n    <!-- Small Red Crosses in Corners -->\n    <use xlink:href=\"#c\" transform=\"translate(64.45 39.45)\" fill=\"red\"/>\n    <use xlink:href=\"#c\" transform=\"translate(235.55 160.55)\" fill=\"red\"/>\n    <use xlink:href=\"#c\" transform=\"translate(235.55 39.45)\" fill=\"red\"/>\n    <use xlink:href=\"#c\" transform=\"translate(64.45 160.55)\" fill=\"red\"/>\n</svg>\n"
          },
          "metadata": {}
        }
      ],
      "execution_count": 6
    },
    {
      "id": "c22ce7e9-ffe6-4526-a3e6-9370907a12ba",
      "cell_type": "code",
      "source": "def task_8(elements):\n    index = 0\n    while index < len(elements):\n        if index == 0 or elements[index - 1] >= elements[index]:\n            index += 1\n        else:\n            elements[index], elements[index - 1] = elements[index - 1], elements[index]\n            index -= 1\n    return elements",
      "metadata": {
        "trusted": true
      },
      "outputs": [],
      "execution_count": 1
    },
    {
      "id": "e99c823b-b39a-4a57-ab4a-e056b1d4faf9",
      "cell_type": "code",
      "source": "task_8([5, 3, 78, 3, 23, 7, 34])",
      "metadata": {
        "trusted": true
      },
      "outputs": [
        {
          "execution_count": 2,
          "output_type": "execute_result",
          "data": {
            "text/plain": "[78, 34, 23, 7, 5, 3, 3]"
          },
          "metadata": {}
        }
      ],
      "execution_count": 2
    },
    {
      "id": "6965c128-be62-4c5b-baeb-e8788f7f6fc1",
      "cell_type": "code",
      "source": "",
      "metadata": {
        "trusted": true
      },
      "outputs": [],
      "execution_count": null
    }
  ]
}
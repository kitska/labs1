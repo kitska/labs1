{
 "cells": [
  {
   "cell_type": "markdown",
   "id": "43dc4e58",
   "metadata": {},
   "source": [
    "<div style=\"border: 2px solid black; padding: 10px;\">\n",
    "\n",
    "**Greece**\n",
    "================\n",
    "\n",
    "### General Information\n",
    "\n",
    "* **Area:** 131,957 km²\n",
    "* **Population:** 10,724,599 (2020 est.)\n",
    "* **Government:** Parliamentary Republic\n",
    "\n",
    "### Famous Personalities\n",
    "\n",
    "* **Philosophers:**\n",
    "\t+ Socrates\n",
    "\t+ Plato\n",
    "\t+ Aristotle\n",
    "* **Historical Figures:**\n",
    "\t+ Alexander the Great\n",
    "\t+ Pericles\n",
    "\n",
    "### Cultural Heritage\n",
    "\n",
    "* **Ancient Ruins:**\n",
    "\t+ Acropolis of Athens\n",
    "\t+ Ancient Agora of Athens\n",
    "\t+ Temple of Olympian Zeus\n",
    "* **Museums:**\n",
    "\t+ National Archaeological Museum\n",
    "\t+ Museum of Cycladic Art\n",
    "\n",
    "### Natural Wonders\n",
    "\n",
    "* **Islands:**\n",
    "\t+ Santorini\n",
    "\t+ Mykonos\n",
    "\t+ Crete\n",
    "* **Mountains:**\n",
    "\t+ Mount Olympus\n",
    "\t+ Mount Parnassus\n",
    "\n",
    "### Pictures\n",
    "\n",
    "<img src=\"https://upload.wikimedia.org/wikipedia/commons/thumb/5/5c/Flag_of_Greece.svg/1280px-Flag_of_Greece.svg.png\" alt=\"Прапор Греції\" width=\"200\"/>\n",
    "\n",
    "### Links\n",
    "\n",
    "* [Official Government Website](https://government.gov.gr/)\n",
    "* [Greek National Tourism Organization](https://www.visitgreece.gr/)\n",
    "\n",
    "| Column 1 | Column 2 | Column 3 |\n",
    "|:--------:|:--------:|:--------:|\n",
    "|  Row 1   |  Row 1   |  Row 1   |\n",
    "|  Row 2   |  Row 2   |  Row 2   |\n",
    "|  Row 3   |  Row 3   |  Row 3   |\n",
    "\n",
    "</div>\n"
   ]
  },
  {
   "cell_type": "code",
   "execution_count": 7,
   "id": "e49c0fac",
   "metadata": {},
   "outputs": [
    {
     "data": {
      "text/html": [
       "\n",
       " <svg xmlns = \"http://www.w3.org/2000/svg\" version = \"1.1\" height = \"100\" width = \"150\" >\n",
       "        <g class = \"greek_flag_image\" transform = \"translate(5,5)\">\n",
       "        \n",
       "        <g class = \"background\">\n",
       "        \n",
       "        <rect x = \"0\" y = \"0\" stroke = \"transparent\" stroke-width = \"0\" height = \"90\" width = \"135\" fill = \"#0D5EAF\"></rect>\n",
       "        \n",
       "        </g>\n",
       "        <g class = \"stripes\">\n",
       "          \n",
       "          <path id = \"first_from_bottom_blue_stripe\" stroke = \"#0D5EAF\" stroke-width = \"0\" fill = \"#0D5EAF\" d = \"M0, 80 L0, 90 L 135, 90 L135, 80 L0, 80 z\" ></path>\n",
       "          <path id = \"2nd_from_bottom_white_stripe\" stroke = \"#FFFFFF\" stroke-width = \"0\" fill = \"#FFFFFF\" d = \"M0, 70 L0, 80 L 135, 80 L135, 70 L0, 70 z\"></path>\n",
       "          <path id = \"third_from_bottom_blue_stripe\" stroke = \"#0D5EAF\" stroke-width = \"0\" fill = \"#0D5EAF\" d = \"M0, 60 L0, 70 L 135, 70 L135, 60 L0, 60 z\"></path>\n",
       "          <path id = \"fourth_from_bottom_white_stripe\" stroke = \"#FFFFFF\" stroke-width = \"0\" fill = \"#FFFFFF\" d = \"M0, 50 L0, 60 L 135, 60 L135, 50 L0, 50 z\"></path>\n",
       "          <path id = \"fifth_from_bottom_blue_stripe\" stroke = \"#0D5EAF\" stroke-width = \"0\" fill = \"#0D5EAF\" d = \"M0, 40 L 0,50 L135, 50 L135, 40 L 0,40\"></path>\n",
       "          <path id = \"sixth_from_bottom_white_stripe\" stroke = \"#FFFFFF\" stroke-width = \"0\" fill = \"#FFFFFF\" d = \"M0, 30 L0, 40 L 135, 40 L135, 30 L0, 30 z\"></path>\n",
       "          <path id = \"seventh_from_bottom_blue_stripe\" stroke = \"#0D5EAF\" stroke-width = \"0\" fill = \"#0D5EAF\" d = \"M0, 20 L0, 30 L135, 30 L135, 20 L0,20 z\"></path>\n",
       "          <path id = \"eighth_from_bottom_white_stripe\" stroke = \"#FFFFFF\" stroke-width = \"0\" fill = \"#FFFFFF\" d = \"M0, 10 L0, 20 L 135, 20 L135, 10 L0, 10 z\"></path>\n",
       "          <path id = \"ninth_from_bottom_blue_stripe\" stroke = \"#0D5EAF\" stroke-width = \"0\" fill = \"#0D5EAF\" d = \"M0, 0 L0, 10 L 135, 10 L135, 0 L0, 0 z\"></path>\n",
       "          \n",
       "        \n",
       "        </g>\n",
       "          <g class = \"blue_canton\">\n",
       "            <g class = \"canton_background\">\n",
       "              <rect x = \"0\" y = \"0\" stroke = \"transparent\" stroke-width = \"0\" height = \"50\" width = \"50\" fill = \"#0D5EAF\"></rect>\n",
       "            </g>\n",
       "            \n",
       "            <g class = \"tau_cross\">\n",
       "              \n",
       "              <path id = \"equal_armed_cross\" stroke = \"#FFFFFF\" stroke-width = \"0\" fill = \"#FFFFFF\" d = \"M20, 0 L30, 0 L 30, 20 L50,20 L50,30 L30, 30 L30, 50 L20, 50 L 20, 30 L0, 30 L0, 20 L20, 20 L20, 0z\"></path>\n",
       "              \n",
       "            </g>\n",
       "          </g>\n",
       "        </g>\n",
       "    </svg>\n"
      ],
      "text/plain": [
       "<IPython.core.display.HTML object>"
      ]
     },
     "metadata": {},
     "output_type": "display_data"
    }
   ],
   "source": [
    "%%HTML\n",
    "\n",
    " <svg xmlns = \"http://www.w3.org/2000/svg\" version = \"1.1\" height = \"100\" width = \"150\" >\n",
    "        <g class = \"greek_flag_image\" transform = \"translate(5,5)\">\n",
    "        \n",
    "        <g class = \"background\">\n",
    "        \n",
    "        <rect x = \"0\" y = \"0\" stroke = \"transparent\" stroke-width = \"0\" height = \"90\" width = \"135\" fill = \"#0D5EAF\"></rect>\n",
    "        \n",
    "        </g>\n",
    "        <g class = \"stripes\">\n",
    "          \n",
    "          <path id = \"first_from_bottom_blue_stripe\" stroke = \"#0D5EAF\" stroke-width = \"0\" fill = \"#0D5EAF\" d = \"M0, 80 L0, 90 L 135, 90 L135, 80 L0, 80 z\" ></path>\n",
    "          <path id = \"2nd_from_bottom_white_stripe\" stroke = \"#FFFFFF\" stroke-width = \"0\" fill = \"#FFFFFF\" d = \"M0, 70 L0, 80 L 135, 80 L135, 70 L0, 70 z\"></path>\n",
    "          <path id = \"third_from_bottom_blue_stripe\" stroke = \"#0D5EAF\" stroke-width = \"0\" fill = \"#0D5EAF\" d = \"M0, 60 L0, 70 L 135, 70 L135, 60 L0, 60 z\"></path>\n",
    "          <path id = \"fourth_from_bottom_white_stripe\" stroke = \"#FFFFFF\" stroke-width = \"0\" fill = \"#FFFFFF\" d = \"M0, 50 L0, 60 L 135, 60 L135, 50 L0, 50 z\"></path>\n",
    "          <path id = \"fifth_from_bottom_blue_stripe\" stroke = \"#0D5EAF\" stroke-width = \"0\" fill = \"#0D5EAF\" d = \"M0, 40 L 0,50 L135, 50 L135, 40 L 0,40\"></path>\n",
    "          <path id = \"sixth_from_bottom_white_stripe\" stroke = \"#FFFFFF\" stroke-width = \"0\" fill = \"#FFFFFF\" d = \"M0, 30 L0, 40 L 135, 40 L135, 30 L0, 30 z\"></path>\n",
    "          <path id = \"seventh_from_bottom_blue_stripe\" stroke = \"#0D5EAF\" stroke-width = \"0\" fill = \"#0D5EAF\" d = \"M0, 20 L0, 30 L135, 30 L135, 20 L0,20 z\"></path>\n",
    "          <path id = \"eighth_from_bottom_white_stripe\" stroke = \"#FFFFFF\" stroke-width = \"0\" fill = \"#FFFFFF\" d = \"M0, 10 L0, 20 L 135, 20 L135, 10 L0, 10 z\"></path>\n",
    "          <path id = \"ninth_from_bottom_blue_stripe\" stroke = \"#0D5EAF\" stroke-width = \"0\" fill = \"#0D5EAF\" d = \"M0, 0 L0, 10 L 135, 10 L135, 0 L0, 0 z\"></path>\n",
    "          \n",
    "        \n",
    "        </g>\n",
    "          <g class = \"blue_canton\">\n",
    "            <g class = \"canton_background\">\n",
    "              <rect x = \"0\" y = \"0\" stroke = \"transparent\" stroke-width = \"0\" height = \"50\" width = \"50\" fill = \"#0D5EAF\"></rect>\n",
    "            </g>\n",
    "            \n",
    "            <g class = \"tau_cross\">\n",
    "              \n",
    "              <path id = \"equal_armed_cross\" stroke = \"#FFFFFF\" stroke-width = \"0\" fill = \"#FFFFFF\" d = \"M20, 0 L30, 0 L 30, 20 L50,20 L50,30 L30, 30 L30, 50 L20, 50 L 20, 30 L0, 30 L0, 20 L20, 20 L20, 0z\"></path>\n",
    "              \n",
    "            </g>\n",
    "          </g>\n",
    "        </g>\n",
    "    </svg>"
   ]
  },
  {
   "cell_type": "code",
   "execution_count": 9,
   "id": "e87dd65a",
   "metadata": {},
   "outputs": [],
   "source": [
    "def is_prime(num):\n",
    "    if num <= 1:\n",
    "        return False\n",
    "    if num <= 3:\n",
    "        return True\n",
    "    if num % 2 == 0 or num % 3 == 0:\n",
    "        return False\n",
    "    i = 5\n",
    "    while i * i <= num:\n",
    "        if num % i == 0 or num % (i + 2) == 0:\n",
    "            return False\n",
    "        i += 6\n",
    "    return True\n",
    "\n",
    "def task5(num):\n",
    "    if num <= 2 or num % 2 != 0:\n",
    "        return \"Число повинно бути парним та більше 2.\"\n",
    "    for i in range(2, num // 2 + 1):\n",
    "        if is_prime(i) and is_prime(num - i):\n",
    "            return f\"Число {num} можна представити як {i}+{num - i}\"\n",
    "    return \"Не вдалося знайти представлення числа як суми двох простих чисел.\"\n"
   ]
  },
  {
   "cell_type": "code",
   "execution_count": 10,
   "id": "13ef820a",
   "metadata": {},
   "outputs": [
    {
     "data": {
      "text/plain": [
       "'Число повинно бути парним та більше 2.'"
      ]
     },
     "execution_count": 10,
     "metadata": {},
     "output_type": "execute_result"
    }
   ],
   "source": [
    "task5(5)"
   ]
  },
  {
   "cell_type": "code",
   "execution_count": 12,
   "id": "cca448ce",
   "metadata": {},
   "outputs": [
    {
     "data": {
      "text/plain": [
       "'Число 6 можна представити як 3+3'"
      ]
     },
     "execution_count": 12,
     "metadata": {},
     "output_type": "execute_result"
    }
   ],
   "source": [
    "task5(6)"
   ]
  },
  {
   "cell_type": "code",
   "execution_count": 13,
   "id": "93eb5621",
   "metadata": {},
   "outputs": [
    {
     "data": {
      "text/plain": [
       "'Число 28 можна представити як 5+23'"
      ]
     },
     "execution_count": 13,
     "metadata": {},
     "output_type": "execute_result"
    }
   ],
   "source": [
    "task5(28)"
   ]
  },
  {
   "cell_type": "code",
   "execution_count": null,
   "id": "098ce00c",
   "metadata": {},
   "outputs": [],
   "source": []
  }
 ],
 "metadata": {
  "kernelspec": {
   "display_name": "Python 3 (ipykernel)",
   "language": "python",
   "name": "python3"
  },
  "language_info": {
   "codemirror_mode": {
    "name": "ipython",
    "version": 3
   },
   "file_extension": ".py",
   "mimetype": "text/x-python",
   "name": "python",
   "nbconvert_exporter": "python",
   "pygments_lexer": "ipython3",
   "version": "3.7.1"
  }
 },
 "nbformat": 4,
 "nbformat_minor": 5
}
